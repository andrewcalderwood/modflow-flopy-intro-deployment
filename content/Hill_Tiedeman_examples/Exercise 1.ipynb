{
 "cells": [
  {
   "cell_type": "code",
   "execution_count": 1,
   "id": "993f31b0",
   "metadata": {},
   "outputs": [],
   "source": [
    "# standard python utilities\n",
    "import os\n",
    "import sys\n",
    "from os.path import basename, dirname, join, exists\n",
    "import glob\n",
    "\n",
    "import pandas as pd\n",
    "import numpy as np\n",
    "\n",
    "# standard python plotting utilities\n",
    "import matplotlib as mpl\n",
    "import matplotlib.pyplot as plt\n"
   ]
  },
  {
   "cell_type": "code",
   "execution_count": 2,
   "id": "c521b08e",
   "metadata": {},
   "outputs": [],
   "source": [
    "doc_dir = os.getcwd()\n",
    "while basename(doc_dir) != 'Documents':\n",
    "    doc_dir = dirname(doc_dir)\n",
    "    \n",
    "# dir of all gwfm data\n",
    "gwfm_dir = join(dirname(doc_dir),'Dropbox (LWA)/Flopy Training/')\n",
    "\n"
   ]
  },
  {
   "cell_type": "code",
   "execution_count": 3,
   "id": "bfb51980",
   "metadata": {},
   "outputs": [],
   "source": [
    "def add_path(fxn_dir):\n",
    "    \"\"\" Insert fxn directory into first position on path so local functions supercede the global\"\"\"\n",
    "    if fxn_dir not in sys.path:\n",
    "        sys.path.insert(0, fxn_dir)\n",
    "\n",
    "# other functions\n",
    "py_dir = join(doc_dir,'GitHub/gw_training/utilities')\n",
    "add_path(py_dir)\n",
    "\n",
    "from mf_utility import get_layer_from_elev\n",
    "from map_cln import gdf_bnds, plt_cln"
   ]
  },
  {
   "cell_type": "code",
   "execution_count": 4,
   "id": "4ebfdfb4",
   "metadata": {},
   "outputs": [],
   "source": [
    "# flopy github path - edited\n",
    "add_path(doc_dir+'/GitHub/flopy')\n",
    "# if flopy exists on the computer elsewhere and not under GitHub it will be found as well\n",
    "import flopy "
   ]
  },
  {
   "cell_type": "markdown",
   "id": "7b96569b",
   "metadata": {},
   "source": [
    "# Model Set up\n",
    "<img src=\"img/exercise1_conceptual_model_dimensions.png\" width=\"400\" height=\"500\"/>"
   ]
  },
  {
   "cell_type": "code",
   "execution_count": 5,
   "id": "e5bd58fb",
   "metadata": {},
   "outputs": [],
   "source": [
    "loadpth = 'C:/WRDAPP/GWFlowModel/training'\n",
    "model_ws = join(loadpth, 'exercise_1')\n",
    "os.makedirs(model_ws, exist_ok=True)"
   ]
  },
  {
   "cell_type": "code",
   "execution_count": 6,
   "id": "b8e43775",
   "metadata": {},
   "outputs": [],
   "source": [
    "## define grid discretization ##\n",
    "## layer elevations can be defined later\n",
    "nrow = 18\n",
    "ncol = 18\n",
    "delr = 1000\n",
    "delc = 1000\n",
    "rotation = 0\n",
    "\n",
    "# the vertical confining bed is not considered a layer as it will be applied below a given layer\n",
    "nlay = 2\n"
   ]
  },
  {
   "cell_type": "code",
   "execution_count": 7,
   "id": "ec064bd0",
   "metadata": {},
   "outputs": [],
   "source": [
    "## define time discretization ##\n",
    "\n",
    "nper = 1\n",
    "\n",
    "# Each period has a length of one because the timestep is one month, have the 1st stress period be out of the date range\n",
    "# need to have the transient packages start on the second stress period\n",
    "perlen = np.ones(nper)\n",
    "# stress period unit is days so need to increase stress period\n",
    "# perlen[1:] = dates.days_in_month\n",
    "# Steady or transient periods\n",
    "steady = np.zeros(nper)\n",
    "steady[0] = 1 # first period is steady state, rest are transient\n",
    "steady = steady.astype('bool').tolist()\n",
    "# Bimonthly timesteps\n",
    "nstp = np.ones(nper).astype(int)"
   ]
  },
  {
   "cell_type": "code",
   "execution_count": 8,
   "id": "b35344a4",
   "metadata": {},
   "outputs": [],
   "source": [
    "m = flopy.modflow.Modflow(modelname = 'MF', exe_name = 'mf2005', \n",
    "                          version = 'mf2005', model_ws=model_ws)\n",
    "\n",
    "#lenuni = 1 is in ft, lenuni = 2 is in meters\n",
    "# itmuni is time unit 5 = years, 4=days, 3 =hours, 2=minutes, 1=seconds\n",
    "dis = flopy.modflow.ModflowDis(model=m,\n",
    "                               nrow=nrow, ncol=ncol, nlay=nlay, \n",
    "                               delr=delr, delc=delc,\n",
    "                               lenuni = 2, itmuni = 1,\n",
    "#                                rotation=rotation, proj4_str=proj4_str,\n",
    "                              nper = nper, perlen=perlen, nstp=nstp, steady = steady,\n",
    "#                               start_datetime = strt_date\n",
    "                              )\n"
   ]
  },
  {
   "cell_type": "code",
   "execution_count": 56,
   "id": "4c319b0b-755e-4b5a-9b85-a142ba6d3d0c",
   "metadata": {},
   "outputs": [],
   "source": [
    "# flopy.modflow.ModflowDis?"
   ]
  },
  {
   "cell_type": "markdown",
   "id": "85a63e77",
   "metadata": {},
   "source": [
    "While some objects by default produce copies, it is a good practice to ensure you are not linking arrays by using the np.copy function or for pandas pd.DataFrame.copy()"
   ]
  },
  {
   "cell_type": "code",
   "execution_count": 9,
   "id": "aea3548e",
   "metadata": {},
   "outputs": [],
   "source": [
    "## define layer bottom elevations ##\n",
    "# create copies of arrays with default values\n",
    "top = np.copy(m.dis.top.array)\n",
    "botm = np.copy(m.dis.botm.array)\n",
    "# assign model top elevations\n",
    "top[:,:] = 100\n",
    "# assign layer bottom elevations\n",
    "lay_elev = np.array([50, 0])\n",
    "for k in np.arange(0,nlay):\n",
    "    botm[k,:,:] = lay_elev[k]\n",
    "    \n",
    "# redefine the values in the floy DIS object\n",
    "m.dis.top = top\n",
    "m.dis.botm = botm\n",
    "\n"
   ]
  },
  {
   "cell_type": "code",
   "execution_count": 10,
   "id": "9d32f085",
   "metadata": {},
   "outputs": [],
   "source": [
    "# define middle layer as a quasi-3d confining bed\n",
    "# flopy says the array defines whether a layer has a confining bed below it,\n",
    "# not sure if that means the layer below or how properties are then defined\n",
    "laycbd = np.copy(dis.laycbd.array)\n",
    "laycbd[0] = 1\n",
    "dis.laybcd = laycbd"
   ]
  },
  {
   "cell_type": "markdown",
   "id": "966658f3",
   "metadata": {},
   "source": [
    "## Basic Package (BAS6)"
   ]
  },
  {
   "cell_type": "code",
   "execution_count": 11,
   "id": "152fd810",
   "metadata": {},
   "outputs": [],
   "source": [
    "# assume all cells are initially active\n",
    "ibound = np.ones(m.dis.botm.shape)\n",
    "# have starting heads at ground surface so every cell is active\n",
    "strt = m.dis.top"
   ]
  },
  {
   "cell_type": "code",
   "execution_count": 12,
   "id": "3061aad2",
   "metadata": {},
   "outputs": [],
   "source": [
    "# define the basic package\n",
    "bas = flopy.modflow.ModflowBas(model = m, ibound=ibound, strt = strt)"
   ]
  },
  {
   "cell_type": "markdown",
   "id": "e96d3566",
   "metadata": {},
   "source": [
    "## Layer Property Flow Package (LPF)"
   ]
  },
  {
   "cell_type": "code",
   "execution_count": 57,
   "id": "de0d3034",
   "metadata": {},
   "outputs": [],
   "source": [
    "# load hydraulic parameter data\n",
    "param = pd.read_excel('data/exercise1_hydraulic_parameters.xlsx', sheet_name='geologic', comment='#')\n",
    "param.to_csv(join(model_ws, 'exercise1_hydraulic_parameters_ucode.csv'))"
   ]
  },
  {
   "cell_type": "code",
   "execution_count": 58,
   "id": "f4848515",
   "metadata": {},
   "outputs": [],
   "source": [
    "# allocate arrays for hydraulic conductivity (HK), vertical HK, specific storage (Ss), specific yield (Sy)\n",
    "hk = np.zeros(m.dis.botm.shape)\n",
    "vka = np.zeros(m.dis.botm.shape)\n",
    "\n",
    "# define vertical confining bed conductivity\n",
    "vkcb = np.zeros(m.dis.botm.shape)"
   ]
  },
  {
   "cell_type": "code",
   "execution_count": 59,
   "id": "72fc3abc",
   "metadata": {},
   "outputs": [],
   "source": [
    "for k in np.arange(0,nlay):\n",
    "    param_k = param[param.layer==k+1]\n",
    "    hk[k] = param_k.loc[param_k.GroupName=='hk','StartValue']\n",
    "    vka[k] = param_k.loc[param_k.GroupName=='vani','StartValue']\n",
    "    vkcb[k] = param_k.loc[param_k.GroupName=='vkcb','StartValue']\n"
   ]
  },
  {
   "cell_type": "code",
   "execution_count": 16,
   "id": "56ebf7ea",
   "metadata": {},
   "outputs": [],
   "source": [
    "\n",
    "# VKA is defined where: 0 is vertical hydraulic conductivity, and 1 is vertical anisotropy\n",
    "layvka = 1\n",
    "# chani is defined where: 0 means HANI defines HANI and >0  means CHANI defines HANI for entire layers\n",
    "chani = 0\n",
    "# hani is the ratio of horizontal anisotropy (along columns vs rows (x vs. y))\n",
    "hani = 1\n",
    "# LAYTYP MUST BE GREATER THAN ZERO WHEN IUZFOPT IS 2\n",
    "# 0 is confined, >0 convertible, <0 convertible unless the THICKSTRT option is in effect\n",
    "laytyp = np.zeros(m.dis.nlay)\n",
    "laywet = laytyp[:]\n",
    "# Laywet must be 0 if laytyp is confined laywet = [1,1,1,1,1]\n",
    "# laywet = 1 means layers can be rewetted.\n",
    "#ipakcb = 53 means cell-by-cell budget is saved because it is non zero (default is 53)\n",
    "lpf = flopy.modflow.ModflowLpf(model = m, \n",
    "                               hk =hk, chani = chani, hani = hani,\n",
    "                               layvka = layvka, vka = vka, \n",
    "                               vkcb = vkcb,\n",
    "                               laytyp=laytyp, laywet = laywet, ipakcb=53,\n",
    "                              )"
   ]
  },
  {
   "cell_type": "code",
   "execution_count": 17,
   "id": "6a946850",
   "metadata": {},
   "outputs": [
    {
     "data": {
      "text/plain": [
       "<matplotlib.colorbar.Colorbar at 0x24c39a00710>"
      ]
     },
     "execution_count": 17,
     "metadata": {},
     "output_type": "execute_result"
    },
    {
     "data": {
      "image/png": "[encoded data removed]",
      "text/plain": [
       "<Figure size 640x480 with 2 Axes>"
      ]
     },
     "metadata": {},
     "output_type": "display_data"
    }
   ],
   "source": [
    "# multipliers are not directly defineable within flopy, but\n",
    "# it is easily applicable with an array to mulitply the value\n",
    "mult_1d = np.linspace(1, 9, ncol)\n",
    "# the array must be reshaped to have a 2nd axis to then repeat along that axis\n",
    "mult_2d = np.repeat(np.reshape(mult_1d, (1, ncol)), nrow, axis=0)\n",
    "plt.imshow(mult_2d)\n",
    "plt.colorbar(shrink=0.6)"
   ]
  },
  {
   "cell_type": "code",
   "execution_count": 18,
   "id": "6c89e274-74c9-4734-9fc0-e7c84fe5ce7c",
   "metadata": {},
   "outputs": [
    {
     "data": {
      "text/plain": [
       "(2, 18, 18)"
      ]
     },
     "execution_count": 18,
     "metadata": {},
     "output_type": "execute_result"
    }
   ],
   "source": [
    "hk.shape"
   ]
  },
  {
   "cell_type": "code",
   "execution_count": 19,
   "id": "b71b7e59",
   "metadata": {},
   "outputs": [],
   "source": [
    "# we can now scale the HK in layer 2 by the multiplier array\n",
    "hk_mult = np.copy(hk)\n",
    "hk_mult[1] = hk[1] * mult_2d\n",
    "\n",
    "# this can then be redefined in the LPF package\n",
    "lpf.hk = hk_mult"
   ]
  },
  {
   "cell_type": "code",
   "execution_count": 20,
   "id": "eeb29a98",
   "metadata": {},
   "outputs": [
    {
     "data": {
      "image/png": "[encoded data removed]",
      "text/plain": [
       "<Figure size 600x300 with 4 Axes>"
      ]
     },
     "metadata": {},
     "output_type": "display_data"
    }
   ],
   "source": [
    "# we can check the final hydrualic conductivity with the same plotting method\n",
    "fig,ax = plt.subplots(1,nlay ,figsize=(6,3))\n",
    "for k in np.arange(0,nlay):\n",
    "    im = ax[k].imshow(lpf.hk.array[k])\n",
    "    plt.colorbar(im, shrink=0.6)\n",
    "fig.tight_layout()"
   ]
  },
  {
   "cell_type": "markdown",
   "id": "c5fdb57f",
   "metadata": {},
   "source": [
    "# Boundary Conditions\n",
    "<img src=\"img/exercise1_conceptual_model.png\" width=\"400\" height=\"500\"/>\n",
    "\n",
    "Boudary Conditions (BC) to implement:\n",
    "- GHB for the leaky reservoir\n",
    "- RIV for the river\n",
    "- RCH for the precipitation"
   ]
  },
  {
   "cell_type": "markdown",
   "id": "4a281843",
   "metadata": {},
   "source": [
    "## River Package (RIV)\n",
    "\n",
    "<img src=\"img/river_BC_schematic.png\" width=\"400\" height=\"500\"/>"
   ]
  },
  {
   "cell_type": "code",
   "execution_count": 21,
   "id": "84e9d5eb",
   "metadata": {},
   "outputs": [],
   "source": [
    "# intialize the river package\n",
    "riv = flopy.modflow.ModflowRiv(model=m, ipakcb=53)"
   ]
  },
  {
   "cell_type": "code",
   "execution_count": 22,
   "id": "48c8efee",
   "metadata": {},
   "outputs": [],
   "source": [
    "# the river package is connected to layer 1 in all of the rows of the first column\n",
    "# we must provide input in 0-based (python) format\n",
    "riv_row = np.arange(0,nrow)\n",
    "riv_col = np.zeros(nrow)\n",
    "riv_layer = np.zeros(nrow)\n"
   ]
  },
  {
   "cell_type": "code",
   "execution_count": 23,
   "id": "f88d5384",
   "metadata": {},
   "outputs": [],
   "source": [
    "# the key input information for the river package is\n",
    "# layer, row, column (k, i, j), stage, conductance (cond) and river bottom (rbot)\n",
    "riv_df = pd.DataFrame(riv.stress_period_data[0]) # create a blank dataframe with columns\n",
    "# assign values\n",
    "riv_df['k'] = riv_layer.astype(int)\n",
    "riv_df['i'] = riv_row.astype(int)\n",
    "riv_df['j'] = riv_col.astype(int)\n",
    "\n"
   ]
  },
  {
   "cell_type": "code",
   "execution_count": 24,
   "id": "b87b466b",
   "metadata": {},
   "outputs": [],
   "source": [
    "# the riverbed conductance is calculated with the dimensions of the model and assigned K value\n",
    "K = 1.2E-3 # vertical conductivity of the river bed (m/s)\n",
    "K = param.loc[param.ParamName=='k_rb','StartValue'].values[0]\n",
    "L = 1000 # length of the river in each cell (m)\n",
    "W = 10 # river width (m)\n",
    "M = 10 # river bed thickness (m)\n",
    "# calculate the conductance of the river (values that are not affected by internal head calculations)\n",
    "C = K*L*W/M # conductance (m^2/s)\n",
    "\n",
    "# river conductance is the value calculated before\n",
    "riv_df['cond'] = C\n",
    "\n",
    "# river stage is assumed to be at the model top, although it can be greater than this\n",
    "riv_df['stage'] = top[riv_df.i, riv_df.j] \n",
    "# the river bottom is the river top minus the river thickness\n",
    "riv_df['rbot'] = top[riv_df.i, riv_df.j] - M\n"
   ]
  },
  {
   "cell_type": "code",
   "execution_count": 25,
   "id": "77c7e92c",
   "metadata": {},
   "outputs": [],
   "source": [
    "# flopy reads in the river data as a numpy array for each stress period defined as a dictionary\n",
    "riv_dict = {}\n",
    "# stress period 0 is defined with the river array\n",
    "# if no new data is supplied it is assumed the river values remain constant\n",
    "riv_dict[0] = np.array(riv_df)\n",
    "\n",
    "# assign the stress_period data to the flopy RIV object\n",
    "riv.stress_period_data = riv_dict"
   ]
  },
  {
   "cell_type": "markdown",
   "id": "1c9bb26f",
   "metadata": {},
   "source": [
    "## General Head Boundary (GHB)\n",
    "This represents the leaky reservoir."
   ]
  },
  {
   "cell_type": "code",
   "execution_count": 26,
   "id": "ed3f2db7",
   "metadata": {},
   "outputs": [],
   "source": [
    "# intialize the river package\n",
    "ghb = flopy.modflow.ModflowGhb(model=m, ipakcb=53)"
   ]
  },
  {
   "cell_type": "code",
   "execution_count": 27,
   "id": "de4e9b96",
   "metadata": {},
   "outputs": [],
   "source": [
    "# the GHB package is connected to layer 1 and 2 in all of the rows of the last column\n",
    "# we must provide input in 0-based (python) format\n",
    "ghb_row = np.arange(0,nrow)\n",
    "ghb_col = np.full(nrow, ncol-1)\n",
    "ghb_layer = np.zeros(nrow)\n",
    "\n"
   ]
  },
  {
   "cell_type": "code",
   "execution_count": 28,
   "id": "85fd9977",
   "metadata": {},
   "outputs": [],
   "source": [
    "# the key input information for the river package is\n",
    "# layer, row, column (k, i, j), stage, conductance (cond) and river bottom (rbot)\n",
    "ghb_df = pd.DataFrame(ghb.stress_period_data[0]) # create a blank dataframe with columns\n",
    "# assign values\n",
    "ghb_df['k'] = ghb_layer.astype(int)\n",
    "ghb_df['i'] = ghb_row.astype(int)\n",
    "ghb_df['j'] = ghb_col.astype(int)\n",
    "\n",
    "# currently the GHB is only assigned to layer 1 we can copy the dataframe\n",
    "# and make a second with the layer specified as 2 and append it to identify all layers\n",
    "ghb_2 = ghb_df.copy().assign(k=1)\n",
    "ghb_df = pd.concat((ghb_df, ghb_2))\n",
    "\n",
    "# ghb boundary head is set as the reservoir water surface elevation\n",
    "ghb_df['bhead'] = 350"
   ]
  },
  {
   "cell_type": "code",
   "execution_count": 29,
   "id": "b4ee788a",
   "metadata": {},
   "outputs": [
    {
     "name": "stdout",
     "output_type": "stream",
     "text": [
      "GHB cond: 1.00E-07 $m^2/s$\n"
     ]
    }
   ],
   "source": [
    "# the GHB conductance is calculated with the dimensions of the model and assigned K value\n",
    "# K = 2E-9 # vertical conductivity of the low permeability granite (m/s)\n",
    "K = param.loc[param.ParamName=='hk_hillside','StartValue'].values[0]\n",
    "L = 1000 # length of the ghb in each cell (m)\n",
    "W = 50 # vertical thickness for each layer (m)\n",
    "M = 1000 # low permeability granite thickness (m)\n",
    "# calculate the conductance of the leaky reservoir (values that are not affected by internal head calculations)\n",
    "C = K*L*W/M # conductance (m^2/s)\n",
    "# # ghb conductance is the value calculated before\n",
    "ghb_df['cond'] = C\n",
    "\n",
    "print('GHB cond: %.2E $m^2/s$' %C)"
   ]
  },
  {
   "cell_type": "code",
   "execution_count": 30,
   "id": "8203753c",
   "metadata": {},
   "outputs": [],
   "source": [
    "# flopy reads in the ghb data as a numpy array for each stress period defined as a dictionary\n",
    "ghb_dict = {}\n",
    "# stress period 0 is defined with the river array\n",
    "# if no new data is supplied it is assumed the ghb values remain constant\n",
    "ghb_dict[0] = np.array(ghb_df)\n",
    "\n",
    "# assign the stress_period data to the flopy GHB object\n",
    "ghb.stress_period_data = ghb_dict"
   ]
  },
  {
   "cell_type": "markdown",
   "id": "8d8d543e",
   "metadata": {},
   "source": [
    "## Recharge Package (RCH)"
   ]
  },
  {
   "cell_type": "code",
   "execution_count": 31,
   "id": "b3b16760",
   "metadata": {},
   "outputs": [],
   "source": [
    "# intialize the recharge package\n",
    "# specify recharge goes to the topmost active layer (nrchop = 3)\n",
    "# alternatives are: 1 - recharge top top layer only, 2 - recharge to layer specified in irch\n",
    "# value in modelmuse was left as 1\n",
    "rch = flopy.modflow.ModflowRch(model=m, nrchop = 1, ipakcb=53)"
   ]
  },
  {
   "cell_type": "code",
   "execution_count": 32,
   "id": "5088c212",
   "metadata": {},
   "outputs": [],
   "source": [
    "# recharge input data is specified with arrays of vertical recharge rates (L/T)\n",
    "# with an array specified for each stress period\n",
    "# if a new stress period is not provided the data from the previous is reused\n",
    "rch_dict = {}\n",
    "\n",
    "rch_arr = np.zeros((nrow,ncol))\n",
    "# define the domain with recharge rates for the left and right sides\n",
    "split_col = int(ncol/2)\n",
    "# recharge rates are presented in cm/yr and must be converted to m/s\n",
    "cmyr2ms = 1/(100*365*86400)\n",
    "rch_arr[:, :split_col] = 63.072*cmyr2ms\n",
    "rch_arr[:, split_col:] = 31.536*cmyr2ms\n",
    "\n",
    "# assign stress period 1\n",
    "rch_dict[0] = rch_arr\n",
    "# assign to RCH object\n",
    "rch.rech = rch_dict"
   ]
  },
  {
   "cell_type": "markdown",
   "id": "b79534da-1281-40f0-beee-f74dd06651ef",
   "metadata": {},
   "source": [
    "# HOB\n",
    "The pre-processed HOB from the Hill examples is relatively simple. If only used for UCODE then the input steps aren't necessary to teach."
   ]
  },
  {
   "cell_type": "code",
   "execution_count": 33,
   "id": "edc30279-ad3c-422c-aa8c-eaf71ccc17ab",
   "metadata": {},
   "outputs": [],
   "source": [
    "hob = flopy.modflow.ModflowHob.load('data/MF.hob', model=m)"
   ]
  },
  {
   "cell_type": "markdown",
   "id": "a73b551d",
   "metadata": {},
   "source": [
    "## Output Control (OC)"
   ]
  },
  {
   "cell_type": "code",
   "execution_count": 34,
   "id": "20a54252-17c8-4cdb-8f02-d9a7a430343e",
   "metadata": {},
   "outputs": [],
   "source": [
    "# make a list of the combinations of stress periods and time steps\n",
    "kstpkper = []\n",
    "kperkstp = []\n",
    "for n,stps in enumerate(nstp):\n",
    "    kstpkper += list(zip(np.arange(0,stps),np.full(stps,n)))\n",
    "    kperkstp += list(zip(np.full(stps,n),np.arange(0,stps)))\n",
    "\n"
   ]
  },
  {
   "cell_type": "code",
   "execution_count": 35,
   "id": "ae518a7b",
   "metadata": {},
   "outputs": [],
   "source": [
    "# Output control\n",
    "# default unit number for heads is 51, cell by cell is 53 and drawdown is 52\n",
    "# (0,0) is (stress period, time step)\n",
    "\n",
    "# create a default dictionary with output saved for all stress periods and steps\n",
    "oc_dict = dict.fromkeys(kperkstp, ['save head','save budget', 'print budget'])\n",
    "\n",
    "oc = flopy.modflow.ModflowOc(model = m, stress_period_data = oc_dict, compact = True)"
   ]
  },
  {
   "cell_type": "markdown",
   "id": "ee11daae",
   "metadata": {},
   "source": [
    "## Solver packages\n",
    "Commonly used solvers include the SIP and PCG.\n",
    "For more complext problems the PCGN and NWT solver may be applicable.\n"
   ]
  },
  {
   "cell_type": "code",
   "execution_count": 36,
   "id": "652625d1",
   "metadata": {},
   "outputs": [],
   "source": [
    "# mixter: outer iterations, iter1 : inner iterations\n",
    "pcg = flopy.modflow.ModflowPcg(m, mxiter = 100, iter1=60, rclose=1e-04, hclose=1e-06, \n",
    "#                                 ipunit=28\n",
    "                               )\n",
    "\n",
    "# iter_mo max outer iters, ter_mi = max inner iters, close_r residual criterion for stopping iteration\n",
    "# close_h is alternate criterion for nonlinear problem, and is head closure which should be smaller than residual closer\n",
    "\n",
    "# pcgn = flopy.modflow.ModflowPcgn(m, iter_mo = 100, iter_mi=60, close_r=1e-01, close_h=1e-02, ipunit=28)\n"
   ]
  },
  {
   "cell_type": "markdown",
   "id": "54db12aa",
   "metadata": {},
   "source": [
    "# Run the model"
   ]
  },
  {
   "cell_type": "code",
   "execution_count": 37,
   "id": "8752cd29",
   "metadata": {},
   "outputs": [
    {
     "name": "stdout",
     "output_type": "stream",
     "text": [
      "\n",
      "MF MODEL DATA VALIDATION SUMMARY:\n",
      "  1 Warning:\n",
      "    RCH package: Variable NRCHOP set to value other than 3\n",
      "\n",
      "  Checks that passed:\n",
      "    Unit number conflicts\n",
      "    Compatible solver package\n",
      "    DIS package: zero or negative thickness\n",
      "    DIS package: thin cells (less than checker threshold of 1.0)\n",
      "    DIS package: nan values in top array\n",
      "    DIS package: nan values in bottom array\n",
      "    BAS6 package: isolated cells in ibound array\n",
      "    BAS6 package: Not a number\n",
      "    LPF package: zero or negative horizontal hydraulic conductivity values\n",
      "    LPF package: negative horizontal anisotropy values\n",
      "    LPF package: vertical hydraulic conductivity values below checker threshold of 1e-11\n",
      "    LPF package: vertical hydraulic conductivity values above checker threshold of 100000.0\n",
      "    LPF package: horizontal hydraulic conductivity values below checker threshold of 1e-11\n",
      "    LPF package: horizontal hydraulic conductivity values above checker threshold of 100000.0\n",
      "    RIV package: stage below cell bottom\n",
      "    RIV package: rbot below cell bottom\n",
      "    RIV package: RIV stage below rbots\n",
      "    GHB package: BC indices valid\n",
      "    GHB package: not a number (Nan) entries\n",
      "    GHB package: BC in inactive cells\n",
      "    GHB package: BC elevation below cell bottom\n",
      "    RCH package: Mean R/T is between 2e-08 and 0.0002\n",
      "\n"
     ]
    },
    {
     "data": {
      "text/plain": [
       "<flopy.utils.check.check at 0x24c39bde590>"
      ]
     },
     "execution_count": 37,
     "metadata": {},
     "output_type": "execute_result"
    }
   ],
   "source": [
    "# flopy has built in checks\n",
    "m.check()"
   ]
  },
  {
   "cell_type": "code",
   "execution_count": 38,
   "id": "812bbc4b",
   "metadata": {},
   "outputs": [],
   "source": [
    "# write the model input\n",
    "m.write_input()"
   ]
  },
  {
   "cell_type": "code",
   "execution_count": 39,
   "id": "ee7e7401",
   "metadata": {},
   "outputs": [
    {
     "name": "stdout",
     "output_type": "stream",
     "text": [
      "FloPy is using the following executable to run the model: C:\\WRDAPP\\MF2005.1_12\\bin\\mf2005.EXE\n",
      "\n",
      "                                  MODFLOW-2005     \n",
      "    U.S. GEOLOGICAL SURVEY MODULAR FINITE-DIFFERENCE GROUND-WATER FLOW MODEL\n",
      "                             Version 1.12.00 2/3/2017                        \n",
      "\n",
      " Using NAME file: MF.nam \n",
      " Run start date and time (yyyy/mm/dd hh:mm:ss): 2024/09/18  8:31:22\n",
      "\n",
      " Solving:  Stress period:     1    Time step:     1    Ground-Water Flow Eqn.\n",
      " Run end date and time (yyyy/mm/dd hh:mm:ss): 2024/09/18  8:31:22\n",
      " Elapsed run time:  0.010 Seconds\n",
      "\n",
      "  Normal termination of simulation\n"
     ]
    }
   ],
   "source": [
    "# run the model\n",
    "success, buff = m.run_model()"
   ]
  },
  {
   "cell_type": "markdown",
   "id": "5b574f61",
   "metadata": {},
   "source": [
    "# Post-process"
   ]
  },
  {
   "cell_type": "markdown",
   "id": "ae5f295c-31bf-4f2c-b721-3ff3dee8e129",
   "metadata": {},
   "source": [
    "## UCODE"
   ]
  },
  {
   "cell_type": "code",
   "execution_count": 40,
   "id": "6ba0b1af-5a4d-475f-b8ab-214609e79126",
   "metadata": {},
   "outputs": [],
   "source": [
    "from ucode_input import get_magnitude, make_gel_p_long, prep_gel_pdata, write_pdata, write_hob_jif_dat"
   ]
  },
  {
   "cell_type": "code",
   "execution_count": 41,
   "id": "6623ca30-a26a-4a0d-b95c-205bb6640e25",
   "metadata": {},
   "outputs": [],
   "source": [
    "param_ucode = param.drop(columns=['layer','Units']).copy()\n",
    "param_jtf = param.copy()\n",
    "param_jtf['StartValue'] = '@'+param_jtf.ParamName.str.ljust(20)+'@'\n",
    "with open(join(model_ws, 'exercise_1_hydraulic_parameters_ucode.csv.jtf'), 'w',newline='') as f:\n",
    "    f.write('jtf @\\n')\n",
    "    param_jtf.to_csv(f,index=True, mode=\"a\")\n",
    "    "
   ]
  },
  {
   "cell_type": "code",
   "execution_count": 42,
   "id": "eec2f9e2-318d-44f6-82f2-28d63ef334b5",
   "metadata": {},
   "outputs": [
    {
     "name": "stdout",
     "output_type": "stream",
     "text": [
      "Wrote pdata file\n"
     ]
    }
   ],
   "source": [
    "pdata = prep_gel_pdata(param_ucode)\n",
    "write_pdata(pdata, model_ws, 'MF_ucode.pdata')\n",
    "\n"
   ]
  },
  {
   "cell_type": "code",
   "execution_count": 43,
   "id": "720ef291-3587-489c-b496-7892d3aca0c5",
   "metadata": {},
   "outputs": [],
   "source": [
    "# load hobout to make instruction file\n",
    "hobout = pd.read_csv(join(model_ws, 'MF.hob.out'), delimiter=r'\\s+')\n"
   ]
  },
  {
   "cell_type": "code",
   "execution_count": 44,
   "id": "ff2cc7ee-7485-43b0-9993-10b7d2e4946b",
   "metadata": {},
   "outputs": [],
   "source": [
    "# write instruction file\n",
    "write_hob_jif_dat(model_ws, hobout, statflag=False)"
   ]
  },
  {
   "cell_type": "markdown",
   "id": "ba8ef40a",
   "metadata": {},
   "source": [
    "## Plot heads"
   ]
  },
  {
   "cell_type": "code",
   "execution_count": 45,
   "id": "0525506a",
   "metadata": {},
   "outputs": [],
   "source": [
    "# load the binary head output\n",
    "hdobj = flopy.utils.HeadFile(model_ws+'/MF.hds')\n",
    "# we can extract the stress periods and times of output\n",
    "spd_stp = hdobj.get_kstpkper()\n",
    "times = hdobj.get_times()\n",
    "\n",
    "\n"
   ]
  },
  {
   "cell_type": "code",
   "execution_count": 46,
   "id": "755425d1",
   "metadata": {},
   "outputs": [
    {
     "name": "stderr",
     "output_type": "stream",
     "text": [
      "C:\\Users\\andrewc\\AppData\\Local\\Temp\\ipykernel_23340\\39303235.py:14: UserWarning: This figure includes Axes that are not compatible with tight_layout, so results might be incorrect.\n",
      "  fig.tight_layout()\n"
     ]
    },
    {
     "data": {
      "image/png": "[encoded data removed]",
      "text/plain": [
       "<Figure size 600x300 with 3 Axes>"
      ]
     },
     "metadata": {},
     "output_type": "display_data"
    }
   ],
   "source": [
    "head = hdobj.get_data(kstpkper=(0,0))\n",
    "\n",
    "fig,ax=plt.subplots(1,nlay, figsize=(6,3))\n",
    "vmin = head.min()\n",
    "vmax = head.max()\n",
    "for k in np.arange(0,nlay):\n",
    "#     im = ax[k].imshow(head[k])\n",
    "    im = ax[k].contour(head[k], vmin=vmin, vmax=vmax)\n",
    "    ax[k].clabel(im, im.levels, inline=True, fontsize=10)\n",
    "\n",
    "fig.subplots_adjust(right=0.8)\n",
    "cbar_ax = fig.add_axes([1.05, 0.15, 0.05, 0.7])\n",
    "fig.colorbar(im, cax=cbar_ax, shrink=0.7)\n",
    "fig.tight_layout()"
   ]
  },
  {
   "cell_type": "markdown",
   "id": "d1dd5ca8",
   "metadata": {},
   "source": [
    "## Plot water budget"
   ]
  },
  {
   "cell_type": "code",
   "execution_count": 47,
   "id": "fe2b71c5",
   "metadata": {},
   "outputs": [],
   "source": [
    "cbc = model_ws+'/MF.cbc'\n"
   ]
  },
  {
   "cell_type": "code",
   "execution_count": 48,
   "id": "c045f933",
   "metadata": {},
   "outputs": [],
   "source": [
    "def zone_clean(cbc,zon, kstpkper):\n",
    "    zb = flopy.utils.ZoneBudget(cbc, zon, kstpkper)\n",
    "    zb_df = zb.get_dataframes()\n",
    "    # ungroup by timestep\n",
    "    zb_df = zb_df.reset_index()\n",
    "    names = zb_df.name.unique()\n",
    "    zb_df = zb_df.pivot(index = 'totim', columns = 'name',values = 'ZONE_1')\n",
    "    \n",
    "    # columns to make negative\n",
    "    to_cols = zb_df.columns[zb_df.columns.str.contains('TO_')]\n",
    "    # multiply by -1 to have pulled out of water balance on plot\n",
    "    zb_df.loc[:, to_cols] *= -1\n",
    "    # correct for storage change\n",
    "    # to storage is gw increase (positive)\n",
    "    stor_cols = zb_df.columns[zb_df.columns.str.contains('STORAGE')]\n",
    "    if len(stor_cols)>0:\n",
    "        zb_df['dSTORAGE'] = (zb_df.TO_STORAGE + zb_df.FROM_STORAGE) * -1\n",
    "        zb_df = zb_df.drop(columns=stor_cols)\n",
    "    zb_df = zb_df.reset_index()\n",
    "    return(zb_df)"
   ]
  },
  {
   "cell_type": "code",
   "execution_count": 49,
   "id": "aa732b3b",
   "metadata": {
    "scrolled": true
   },
   "outputs": [
    {
     "name": "stderr",
     "output_type": "stream",
     "text": [
      "C:\\Users\\andrewc\\Documents/GitHub/flopy\\flopy\\utils\\binaryfile.py:1135: DeprecationWarning: Conversion of an array with ndim > 0 to a scalar is deprecated, and will error in future. Ensure you extract a single element from your array before performing this operation. (Deprecated NumPy 1.25.)\n",
      "  if int(header2[\"imeth\"]) == 6:\n",
      "C:\\Users\\andrewc\\Documents/GitHub/flopy\\flopy\\utils\\binaryfile.py:1135: DeprecationWarning: Conversion of an array with ndim > 0 to a scalar is deprecated, and will error in future. Ensure you extract a single element from your array before performing this operation. (Deprecated NumPy 1.25.)\n",
      "  if int(header2[\"imeth\"]) == 6:\n",
      "C:\\Users\\andrewc\\Documents/GitHub/flopy\\flopy\\utils\\binaryfile.py:1135: DeprecationWarning: Conversion of an array with ndim > 0 to a scalar is deprecated, and will error in future. Ensure you extract a single element from your array before performing this operation. (Deprecated NumPy 1.25.)\n",
      "  if int(header2[\"imeth\"]) == 6:\n",
      "C:\\Users\\andrewc\\Documents/GitHub/flopy\\flopy\\utils\\binaryfile.py:1135: DeprecationWarning: Conversion of an array with ndim > 0 to a scalar is deprecated, and will error in future. Ensure you extract a single element from your array before performing this operation. (Deprecated NumPy 1.25.)\n",
      "  if int(header2[\"imeth\"]) == 6:\n",
      "C:\\Users\\andrewc\\Documents/GitHub/flopy\\flopy\\utils\\binaryfile.py:1135: DeprecationWarning: Conversion of an array with ndim > 0 to a scalar is deprecated, and will error in future. Ensure you extract a single element from your array before performing this operation. (Deprecated NumPy 1.25.)\n",
      "  if int(header2[\"imeth\"]) == 6:\n",
      "C:\\Users\\andrewc\\Documents/GitHub/flopy\\flopy\\utils\\binaryfile.py:1135: DeprecationWarning: Conversion of an array with ndim > 0 to a scalar is deprecated, and will error in future. Ensure you extract a single element from your array before performing this operation. (Deprecated NumPy 1.25.)\n",
      "  if int(header2[\"imeth\"]) == 6:\n",
      "C:\\Users\\andrewc\\Documents/GitHub/flopy\\flopy\\utils\\binaryfile.py:1135: DeprecationWarning: Conversion of an array with ndim > 0 to a scalar is deprecated, and will error in future. Ensure you extract a single element from your array before performing this operation. (Deprecated NumPy 1.25.)\n",
      "  if int(header2[\"imeth\"]) == 6:\n",
      "C:\\Users\\andrewc\\Documents/GitHub/flopy\\flopy\\utils\\binaryfile.py:1135: DeprecationWarning: Conversion of an array with ndim > 0 to a scalar is deprecated, and will error in future. Ensure you extract a single element from your array before performing this operation. (Deprecated NumPy 1.25.)\n",
      "  if int(header2[\"imeth\"]) == 6:\n",
      "C:\\Users\\andrewc\\Documents/GitHub/flopy\\flopy\\utils\\binaryfile.py:1686: DeprecationWarning: Conversion of an array with ndim > 0 to a scalar is deprecated, and will error in future. Ensure you extract a single element from your array before performing this operation. (Deprecated NumPy 1.25.)\n",
      "  ipos = int(self.iposarray[idx])\n",
      "C:\\Users\\andrewc\\Documents/GitHub/flopy\\flopy\\utils\\binaryfile.py:1686: DeprecationWarning: Conversion of an array with ndim > 0 to a scalar is deprecated, and will error in future. Ensure you extract a single element from your array before performing this operation. (Deprecated NumPy 1.25.)\n",
      "  ipos = int(self.iposarray[idx])\n",
      "C:\\Users\\andrewc\\Documents/GitHub/flopy\\flopy\\utils\\binaryfile.py:1686: DeprecationWarning: Conversion of an array with ndim > 0 to a scalar is deprecated, and will error in future. Ensure you extract a single element from your array before performing this operation. (Deprecated NumPy 1.25.)\n",
      "  ipos = int(self.iposarray[idx])\n",
      "C:\\Users\\andrewc\\Documents/GitHub/flopy\\flopy\\utils\\binaryfile.py:1686: DeprecationWarning: Conversion of an array with ndim > 0 to a scalar is deprecated, and will error in future. Ensure you extract a single element from your array before performing this operation. (Deprecated NumPy 1.25.)\n",
      "  ipos = int(self.iposarray[idx])\n",
      "C:\\Users\\andrewc\\Documents/GitHub/flopy\\flopy\\utils\\binaryfile.py:1686: DeprecationWarning: Conversion of an array with ndim > 0 to a scalar is deprecated, and will error in future. Ensure you extract a single element from your array before performing this operation. (Deprecated NumPy 1.25.)\n",
      "  ipos = int(self.iposarray[idx])\n",
      "C:\\Users\\andrewc\\Documents/GitHub/flopy\\flopy\\utils\\binaryfile.py:1686: DeprecationWarning: Conversion of an array with ndim > 0 to a scalar is deprecated, and will error in future. Ensure you extract a single element from your array before performing this operation. (Deprecated NumPy 1.25.)\n",
      "  ipos = int(self.iposarray[idx])\n",
      "C:\\Users\\andrewc\\Documents/GitHub/flopy\\flopy\\utils\\binaryfile.py:1686: DeprecationWarning: Conversion of an array with ndim > 0 to a scalar is deprecated, and will error in future. Ensure you extract a single element from your array before performing this operation. (Deprecated NumPy 1.25.)\n",
      "  ipos = int(self.iposarray[idx])\n",
      "C:\\Users\\andrewc\\Documents/GitHub/flopy\\flopy\\utils\\binaryfile.py:1686: DeprecationWarning: Conversion of an array with ndim > 0 to a scalar is deprecated, and will error in future. Ensure you extract a single element from your array before performing this operation. (Deprecated NumPy 1.25.)\n",
      "  ipos = int(self.iposarray[idx])\n"
     ]
    }
   ],
   "source": [
    "zb_df = zone_clean(cbc, np.ones(m.dis.botm.shape, dtype=int), (0,0))"
   ]
  },
  {
   "cell_type": "code",
   "execution_count": 50,
   "id": "e96a12db",
   "metadata": {},
   "outputs": [],
   "source": [
    "mod_cols = zb_df.columns[zb_df.columns.str.contains('TO_|FROM_')].values\n",
    "mod_cols = mod_cols[(np.abs(zb_df[mod_cols])>0).sum(axis=0).astype(bool)]\n"
   ]
  },
  {
   "cell_type": "code",
   "execution_count": 51,
   "id": "12936e79",
   "metadata": {},
   "outputs": [],
   "source": [
    "util_dir = join(doc_dir,'GitHub','gw_training','utilities')\n",
    "fn = join(util_dir,'mf_wb_color_dict.xlsx')\n",
    "zon_color_dict = pd.read_excel(fn, index_col='flux',comment='#', sheet_name='mf_wb_color_dict').color.to_dict()\n",
    "zon_name_dict = pd.read_excel(fn,index_col='flux',comment='#', sheet_name='mf_wb_color_dict').name.to_dict()"
   ]
  },
  {
   "cell_type": "code",
   "execution_count": 54,
   "id": "50dc8896",
   "metadata": {},
   "outputs": [
    {
     "data": {
      "text/plain": [
       "Text(0, 0.5, 'Volumetric Flux ($m^3/s$)')"
      ]
     },
     "execution_count": 54,
     "metadata": {},
     "output_type": "execute_result"
    },
    {
     "data": {
      "image/png": "[encoded data removed]",
      "text/plain": [
       "<Figure size 1600x600 with 1 Axes>"
      ]
     },
     "metadata": {},
     "output_type": "display_data"
    }
   ],
   "source": [
    "# convert m3 to AF\n",
    "# zb_mod_all_AF = (all_mon*(1/0.3048**3)*(1/43560))\n",
    "\n",
    "fig, ax = plt.subplots(figsize=(16,6))\n",
    "# bar plot xticks are plotted as values\n",
    "zb_df.plot(y=mod_cols,\n",
    "           kind='bar',ax=ax, stacked = True,\n",
    "#                color=[zon_color_dict[x] for x in mod_cols], \n",
    "#            label = [zon_name_dict[x] for x in mod_cols]\n",
    "          )\n",
    "ax.hlines(y=0, xmin = -100, xmax = 100, color = 'black')\n",
    "plt.ylabel('Volumetric Flux ($m^3/s$)')\n",
    "# lines are continuous xticks, either force datetime into strings or reuse previous xticks\n",
    "# ax.plot(zb_mod_all_AF.index.astype(str), zb_mod_all_AF.dSTORAGE, color='black')\n"
   ]
  },
  {
   "cell_type": "code",
   "execution_count": null,
   "id": "5513e376-7e29-44a7-8c5b-4b982b0e40b6",
   "metadata": {},
   "outputs": [],
   "source": []
  }
 ],
 "metadata": {
  "kernelspec": {
   "display_name": "Python 3 (ipykernel)",
   "language": "python",
   "name": "python3"
  },
  "language_info": {
   "codemirror_mode": {
    "name": "ipython",
    "version": 3
   },
   "file_extension": ".py",
   "mimetype": "text/x-python",
   "name": "python",
   "nbconvert_exporter": "python",
   "pygments_lexer": "ipython3",
   "version": "3.11.4"
  }
 },
 "nbformat": 4,
 "nbformat_minor": 5
}
